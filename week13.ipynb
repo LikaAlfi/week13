{
  "nbformat": 4,
  "nbformat_minor": 0,
  "metadata": {
    "colab": {
      "provenance": [],
      "authorship_tag": "ABX9TyPnGKqk/4abfIcSDXWXXB2d",
      "include_colab_link": true
    },
    "kernelspec": {
      "name": "python3",
      "display_name": "Python 3"
    },
    "language_info": {
      "name": "python"
    }
  },
  "cells": [
    {
      "cell_type": "markdown",
      "metadata": {
        "id": "view-in-github",
        "colab_type": "text"
      },
      "source": [
        "<a href=\"https://colab.research.google.com/github/LikaAlfi/week13/blob/main/week13.ipynb\" target=\"_parent\"><img src=\"https://colab.research.google.com/assets/colab-badge.svg\" alt=\"Open In Colab\"/></a>"
      ]
    },
    {
      "cell_type": "code",
      "execution_count": null,
      "metadata": {
        "id": "0AlDJWUUIvjr"
      },
      "outputs": [],
      "source": [
        "#Create a class named MyClass, with a property named x:\n",
        "class MyClass:\n",
        "  x = 5"
      ]
    },
    {
      "cell_type": "code",
      "source": [
        "#Create an object named p1, and print the value of x:\n",
        "p1 = MyClass()\n",
        "print(p1.x)"
      ],
      "metadata": {
        "colab": {
          "base_uri": "https://localhost:8080/"
        },
        "id": "OXwlTY0AJLZa",
        "outputId": "05fc5f64-e95b-4365-f59f-13f03aa8161f"
      },
      "execution_count": null,
      "outputs": [
        {
          "output_type": "stream",
          "name": "stdout",
          "text": [
            "5\n"
          ]
        }
      ]
    },
    {
      "cell_type": "code",
      "source": [
        "#Create a class named Person, use the __init__() function to assign values for name and age:\n",
        "class Person:\n",
        "  def __init__(self, name, age):\n",
        "    self.name = name\n",
        "    self.age = age\n",
        "\n",
        "p1 = Person(\"John\", 36)\n",
        "\n",
        "print(p1.name)\n",
        "print(p1.age)"
      ],
      "metadata": {
        "colab": {
          "base_uri": "https://localhost:8080/"
        },
        "id": "PDZ5iYb6JOsJ",
        "outputId": "f1f8fbd0-918f-4615-a781-a9700a192ce8"
      },
      "execution_count": null,
      "outputs": [
        {
          "output_type": "stream",
          "name": "stdout",
          "text": [
            "John\n",
            "36\n"
          ]
        }
      ]
    },
    {
      "cell_type": "code",
      "source": [
        "#The string representation of an object WITHOUT the __str__() function:\n",
        "class Person:\n",
        "  def __init__(self, name, age):\n",
        "    self.name = name\n",
        "    self.age = age\n",
        "\n",
        "p1 = Person(\"John\", 36)\n",
        "\n",
        "print(p1)"
      ],
      "metadata": {
        "colab": {
          "base_uri": "https://localhost:8080/"
        },
        "id": "1phFFkChJRKZ",
        "outputId": "edba936b-4b69-4dc0-d904-56b2bece12bc"
      },
      "execution_count": null,
      "outputs": [
        {
          "output_type": "stream",
          "name": "stdout",
          "text": [
            "<__main__.Person object at 0x798c7690d900>\n"
          ]
        }
      ]
    },
    {
      "cell_type": "code",
      "source": [
        "#Insert a function that prints a greeting, and execute it on the p1 object:\n",
        "class Person:\n",
        "  def __init__(self, name, age):\n",
        "    self.name = name\n",
        "    self.age = age\n",
        "\n",
        "  def myfunc(self):\n",
        "    print(\"Hello my name is \" + self.name)\n",
        "\n",
        "p1 = Person(\"John\", 36)\n",
        "p1.myfunc()"
      ],
      "metadata": {
        "colab": {
          "base_uri": "https://localhost:8080/"
        },
        "id": "_gkmpB2KJThy",
        "outputId": "bba522ca-2051-42bb-e2bb-573e98a3a874"
      },
      "execution_count": null,
      "outputs": [
        {
          "output_type": "stream",
          "name": "stdout",
          "text": [
            "Hello my name is John\n"
          ]
        }
      ]
    },
    {
      "cell_type": "code",
      "source": [
        "#Use the words mysillyobject and abc instead of self:\n",
        "class Person:\n",
        "  def __init__(mysillyobject, name, age):\n",
        "    mysillyobject.name = name\n",
        "    mysillyobject.age = age\n",
        "\n",
        "  def myfunc(abc):\n",
        "    print(\"Hello my name is \" + abc.name)\n",
        "\n",
        "p1 = Person(\"John\", 36)\n",
        "p1.myfunc()\n"
      ],
      "metadata": {
        "colab": {
          "base_uri": "https://localhost:8080/"
        },
        "id": "pEHlA1-BJV4h",
        "outputId": "ba78a7f7-1ea3-4b1b-ad07-9344992dc141"
      },
      "execution_count": null,
      "outputs": [
        {
          "output_type": "stream",
          "name": "stdout",
          "text": [
            "Hello my name is John\n"
          ]
        }
      ]
    },
    {
      "cell_type": "code",
      "source": [
        "#Set the age of p1 to 40:\n",
        "\n",
        "p1.age = 40"
      ],
      "metadata": {
        "id": "KTpypMMOJc55"
      },
      "execution_count": null,
      "outputs": []
    },
    {
      "cell_type": "code",
      "source": [
        "#Delete the p1 object:\n",
        "\n",
        "del p1\n"
      ],
      "metadata": {
        "id": "SajsqKa-JewJ"
      },
      "execution_count": null,
      "outputs": []
    },
    {
      "cell_type": "code",
      "source": [
        "class Person:\n",
        "  pass"
      ],
      "metadata": {
        "id": "mn0vL8ONJk9J"
      },
      "execution_count": null,
      "outputs": []
    },
    {
      "cell_type": "code",
      "source": [
        "#Create a class named Person, with firstname and lastname properties, and a printname method:\n",
        "class Person:\n",
        "  def __init__(self, fname, lname):\n",
        "    self.firstname = fname\n",
        "    self.lastname = lname\n",
        "\n",
        "  def printname(self):\n",
        "    print(self.firstname, self.lastname)\n",
        "\n",
        "#Use the Person class to create an object, and then execute the printname method:\n",
        "\n",
        "x = Person(\"John\", \"Doe\")\n",
        "x.printname()\n"
      ],
      "metadata": {
        "colab": {
          "base_uri": "https://localhost:8080/"
        },
        "id": "X7z98yoAJq_Z",
        "outputId": "50fed6a9-6689-44d0-e86a-1266a1267b42"
      },
      "execution_count": null,
      "outputs": [
        {
          "output_type": "stream",
          "name": "stdout",
          "text": [
            "John Doe\n"
          ]
        }
      ]
    },
    {
      "cell_type": "code",
      "source": [
        "#Create a class named Student, which will inherit the properties and methods from the Person class:\n",
        "class Student(Person):\n",
        "  pass"
      ],
      "metadata": {
        "id": "espuPx_GJvqJ"
      },
      "execution_count": null,
      "outputs": []
    },
    {
      "cell_type": "code",
      "source": [
        "#Use the Student class to create an object, and then execute the printname method:\n",
        "\n",
        "x = Student(\"Mike\", \"Olsen\")\n",
        "x.printname()"
      ],
      "metadata": {
        "colab": {
          "base_uri": "https://localhost:8080/"
        },
        "id": "Y5l7aMN7JzIW",
        "outputId": "f03b6b47-dfa4-4105-ecb5-0e97d24d1749"
      },
      "execution_count": null,
      "outputs": [
        {
          "output_type": "stream",
          "name": "stdout",
          "text": [
            "Mike Olsen\n"
          ]
        }
      ]
    },
    {
      "cell_type": "code",
      "source": [
        "class Student(Person):\n",
        "  def __init__(self, fname, lname):\n",
        "    Person.__init__(self, fname, lname)\n"
      ],
      "metadata": {
        "id": "dYXHoZvzKDUl"
      },
      "execution_count": null,
      "outputs": []
    },
    {
      "cell_type": "code",
      "source": [
        "class Student(Person):\n",
        "  def __init__(self, fname, lname):\n",
        "    super().__init__(fname, lname)"
      ],
      "metadata": {
        "id": "V50GlW_JKGj9"
      },
      "execution_count": null,
      "outputs": []
    },
    {
      "cell_type": "code",
      "source": [
        "#Add a property called graduationyear to the Student class:\n",
        "\n",
        "class Student(Person):\n",
        "  def __init__(self, fname, lname):\n",
        "    super().__init__(fname, lname)\n",
        "    self.graduationyear = 2023"
      ],
      "metadata": {
        "id": "E-iVZtr2KJFV"
      },
      "execution_count": null,
      "outputs": []
    },
    {
      "cell_type": "code",
      "source": [
        "#Add a year parameter, and pass the correct year when creating objects:\n",
        "\n",
        "class Student(Person):\n",
        "  def __init__(self, fname, lname, year):\n",
        "    super().__init__(fname, lname)\n",
        "    self.graduationyear = year\n",
        "\n",
        "x = Student(\"Mike\", \"Olsen\", 2023)\n"
      ],
      "metadata": {
        "id": "VsRRR8OaKK6t"
      },
      "execution_count": null,
      "outputs": []
    },
    {
      "cell_type": "code",
      "source": [
        "#Add a method called welcome to the Student class:\n",
        "\n",
        "class Student(Person):\n",
        "  def __init__(self, fname, lname, year):\n",
        "    super().__init__(fname, lname)\n",
        "    self.graduationyear = year\n",
        "\n",
        "  def welcome(self):\n",
        "    print(\"Welcome\", self.firstname, self.lastname, \"to the class of\", self.graduationyear)\n"
      ],
      "metadata": {
        "id": "-x9TJE2HKNQl"
      },
      "execution_count": null,
      "outputs": []
    },
    {
      "cell_type": "code",
      "source": [
        "#Return an iterator from a tuple, and print each value:\n",
        "\n",
        "mytuple = (\"apple\", \"banana\", \"cherry\")\n",
        "myit = iter(mytuple)\n",
        "\n",
        "print(next(myit))\n",
        "print(next(myit))\n",
        "print(next(myit))"
      ],
      "metadata": {
        "colab": {
          "base_uri": "https://localhost:8080/"
        },
        "id": "LmWDXmmpKPZF",
        "outputId": "7b873cd7-a161-4a39-f0bb-56ffc74d62ae"
      },
      "execution_count": null,
      "outputs": [
        {
          "output_type": "stream",
          "name": "stdout",
          "text": [
            "apple\n",
            "banana\n",
            "cherry\n"
          ]
        }
      ]
    },
    {
      "cell_type": "code",
      "source": [
        "#Strings are also iterable objects, containing a sequence of characters:\n",
        "\n",
        "mystr = \"banana\"\n",
        "myit = iter(mystr)\n",
        "\n",
        "print(next(myit))\n",
        "print(next(myit))\n",
        "print(next(myit))\n",
        "print(next(myit))\n",
        "print(next(myit))\n",
        "print(next(myit))\n"
      ],
      "metadata": {
        "colab": {
          "base_uri": "https://localhost:8080/"
        },
        "id": "nDWWMqv3KTaV",
        "outputId": "0f8e4a97-5322-464f-cb30-dc4debea1823"
      },
      "execution_count": null,
      "outputs": [
        {
          "output_type": "stream",
          "name": "stdout",
          "text": [
            "b\n",
            "a\n",
            "n\n",
            "a\n",
            "n\n",
            "a\n"
          ]
        }
      ]
    },
    {
      "cell_type": "code",
      "source": [
        "#Iterate the values of a tuple:\n",
        "\n",
        "mytuple = (\"apple\", \"banana\", \"cherry\")\n",
        "\n",
        "for x in mytuple:\n",
        "  print(x)\n"
      ],
      "metadata": {
        "colab": {
          "base_uri": "https://localhost:8080/"
        },
        "id": "0CtpKxq6KWH1",
        "outputId": "4ee23e8d-ac6b-4a9c-9fb9-20dcab2a375e"
      },
      "execution_count": null,
      "outputs": [
        {
          "output_type": "stream",
          "name": "stdout",
          "text": [
            "apple\n",
            "banana\n",
            "cherry\n"
          ]
        }
      ]
    },
    {
      "cell_type": "code",
      "source": [
        "#Iterate the characters of a string:\n",
        "\n",
        "mystr = \"banana\"\n",
        "\n",
        "for x in mystr:\n",
        "  print(x)\n"
      ],
      "metadata": {
        "colab": {
          "base_uri": "https://localhost:8080/"
        },
        "id": "8wjJMydSKXwd",
        "outputId": "fa417da0-c9c0-4c2c-cbb4-f43bb5d6a420"
      },
      "execution_count": null,
      "outputs": [
        {
          "output_type": "stream",
          "name": "stdout",
          "text": [
            "b\n",
            "a\n",
            "n\n",
            "a\n",
            "n\n",
            "a\n"
          ]
        }
      ]
    },
    {
      "cell_type": "code",
      "source": [
        "#Create an iterator that returns numbers, starting with 1, and each sequence will increase by one (returning 1,2,3,4,5 etc.):\n",
        "\n",
        "class MyNumbers:\n",
        "  def __iter__(self):\n",
        "    self.a = 1\n",
        "    return self\n",
        "\n",
        "  def __next__(self):\n",
        "    x = self.a\n",
        "    self.a += 1\n",
        "    return x\n",
        "\n",
        "myclass = MyNumbers()\n",
        "myiter = iter(myclass)\n",
        "\n",
        "print(next(myiter))\n",
        "print(next(myiter))\n",
        "print(next(myiter))\n",
        "print(next(myiter))\n",
        "print(next(myiter))"
      ],
      "metadata": {
        "colab": {
          "base_uri": "https://localhost:8080/"
        },
        "id": "Sz2rLmiPKaPu",
        "outputId": "2cb2e96e-d110-4863-99a4-7fe386b188f5"
      },
      "execution_count": null,
      "outputs": [
        {
          "output_type": "stream",
          "name": "stdout",
          "text": [
            "1\n",
            "2\n",
            "3\n",
            "4\n",
            "5\n"
          ]
        }
      ]
    },
    {
      "cell_type": "code",
      "source": [
        "#Stop after 20 iterations:\n",
        "\n",
        "class MyNumbers:\n",
        "  def __iter__(self):\n",
        "    self.a = 1\n",
        "    return self\n",
        "\n",
        "  def __next__(self):\n",
        "    if self.a <= 20:\n",
        "      x = self.a\n",
        "      self.a += 1\n",
        "      return x\n",
        "    else:\n",
        "      raise StopIteration\n",
        "\n",
        "myclass = MyNumbers()\n",
        "myiter = iter(myclass)\n",
        "\n",
        "for x in myiter:\n",
        "  print(x)"
      ],
      "metadata": {
        "colab": {
          "base_uri": "https://localhost:8080/"
        },
        "id": "ATug2s1xKc42",
        "outputId": "04847599-58bf-4a9d-b4f3-3b95aa9ec169"
      },
      "execution_count": null,
      "outputs": [
        {
          "output_type": "stream",
          "name": "stdout",
          "text": [
            "1\n",
            "2\n",
            "3\n",
            "4\n",
            "5\n",
            "6\n",
            "7\n",
            "8\n",
            "9\n",
            "10\n",
            "11\n",
            "12\n",
            "13\n",
            "14\n",
            "15\n",
            "16\n",
            "17\n",
            "18\n",
            "19\n",
            "20\n"
          ]
        }
      ]
    },
    {
      "cell_type": "code",
      "source": [
        "x = \"Hello World!\"\n",
        "\n",
        "print(len(x))"
      ],
      "metadata": {
        "colab": {
          "base_uri": "https://localhost:8080/"
        },
        "id": "Ipe7yRHXKf49",
        "outputId": "478171df-eccf-4e54-db55-5f8f38f1d563"
      },
      "execution_count": null,
      "outputs": [
        {
          "output_type": "stream",
          "name": "stdout",
          "text": [
            "12\n"
          ]
        }
      ]
    },
    {
      "cell_type": "code",
      "source": [
        "mytuple = (\"apple\", \"banana\", \"cherry\")\n",
        "\n",
        "print(len(mytuple))"
      ],
      "metadata": {
        "colab": {
          "base_uri": "https://localhost:8080/"
        },
        "id": "w6308Gr9KiUV",
        "outputId": "e3742d27-56e3-41f8-811d-ecf66c5aca9b"
      },
      "execution_count": null,
      "outputs": [
        {
          "output_type": "stream",
          "name": "stdout",
          "text": [
            "3\n"
          ]
        }
      ]
    },
    {
      "cell_type": "code",
      "source": [
        "thisdict = {\n",
        "  \"brand\": \"Ford\",\n",
        "  \"model\": \"Mustang\",\n",
        "  \"year\": 1964\n",
        "}\n",
        "\n",
        "print(len(thisdict))"
      ],
      "metadata": {
        "colab": {
          "base_uri": "https://localhost:8080/"
        },
        "id": "uqHLEhWwKkmV",
        "outputId": "4a6a963e-196d-4b06-9be7-52dcb58f753e"
      },
      "execution_count": null,
      "outputs": [
        {
          "output_type": "stream",
          "name": "stdout",
          "text": [
            "3\n"
          ]
        }
      ]
    },
    {
      "cell_type": "code",
      "source": [
        "#Different classes with the same method:\n",
        "\n",
        "class Car:\n",
        "  def __init__(self, brand, model):\n",
        "    self.brand = brand\n",
        "    self.model = model\n",
        "\n",
        "  def move(self):\n",
        "    print(\"Drive!\")\n",
        "\n",
        "class Boat:\n",
        "  def __init__(self, brand, model):\n",
        "    self.brand = brand\n",
        "    self.model = model\n",
        "\n",
        "  def move(self):\n",
        "    print(\"Sail!\")\n",
        "\n",
        "class Plane:\n",
        "  def __init__(self, brand, model):\n",
        "    self.brand = brand\n",
        "    self.model = model\n",
        "\n",
        "  def move(self):\n",
        "    print(\"Fly!\")\n",
        "\n",
        "car1 = Car(\"Ford\", \"Mustang\")       #Create a Car class\n",
        "boat1 = Boat(\"Ibiza\", \"Touring 20\") #Create a Boat class\n",
        "plane1 = Plane(\"Boeing\", \"747\")     #Create a Plane class\n",
        "\n",
        "for x in (car1, boat1, plane1):\n",
        "  x.move()"
      ],
      "metadata": {
        "colab": {
          "base_uri": "https://localhost:8080/"
        },
        "id": "J50ymJDPKnyO",
        "outputId": "55d9d88c-627d-40bb-dbf2-d4997568fc36"
      },
      "execution_count": null,
      "outputs": [
        {
          "output_type": "stream",
          "name": "stdout",
          "text": [
            "Drive!\n",
            "Sail!\n",
            "Fly!\n"
          ]
        }
      ]
    },
    {
      "cell_type": "code",
      "source": [
        "#Create a class called Vehicle and make Car, Boat, Plane child classes of Vehicle:\n",
        "\n",
        "class Vehicle:\n",
        "  def __init__(self, brand, model):\n",
        "    self.brand = brand\n",
        "    self.model = model\n",
        "\n",
        "  def move(self):\n",
        "    print(\"Move!\")\n",
        "\n",
        "class Car(Vehicle):\n",
        "  pass\n",
        "\n",
        "class Boat(Vehicle):\n",
        "  def move(self):\n",
        "    print(\"Sail!\")\n",
        "\n",
        "class Plane(Vehicle):\n",
        "  def move(self):\n",
        "    print(\"Fly!\")\n",
        "\n",
        "car1 = Car(\"Ford\", \"Mustang\") #Create a Car object\n",
        "boat1 = Boat(\"Ibiza\", \"Touring 20\") #Create a Boat object\n",
        "plane1 = Plane(\"Boeing\", \"747\") #Create a Plane object\n",
        "\n",
        "for x in (car1, boat1, plane1):\n",
        "  print(x.brand)\n",
        "  print(x.model)\n",
        "  x.move()"
      ],
      "metadata": {
        "colab": {
          "base_uri": "https://localhost:8080/"
        },
        "id": "nyFIhG67Kqem",
        "outputId": "1e2d8a26-ca19-4742-e39d-477f3a8e5275"
      },
      "execution_count": null,
      "outputs": [
        {
          "output_type": "stream",
          "name": "stdout",
          "text": [
            "Ford\n",
            "Mustang\n",
            "Move!\n",
            "Ibiza\n",
            "Touring 20\n",
            "Sail!\n",
            "Boeing\n",
            "747\n",
            "Fly!\n"
          ]
        }
      ]
    },
    {
      "cell_type": "code",
      "source": [
        "# weekly exercise 1\n",
        "\n",
        "class alattulis:\n",
        "  def __init__(self, nama, stok, hargasatuan):\n",
        "    self.nama = nama\n",
        "    self.stok = stok\n",
        "    self.hargasatuan = hargasatuan\n",
        "    self.harga = self.stok * self.hargasatuan\n",
        "\n",
        "  def set_nama(self, nama):\n",
        "    self.nama = nama\n",
        "  def set_stok(self, stok):\n",
        "    self.stok = stok\n",
        "    self.set_total_harga()\n",
        "  def set_hargasatuan(self, hargasatuan):\n",
        "    self.hargasatuan = hargasatuan\n",
        "    self.set_total_harga()\n",
        "  def set_total_harga(self):\n",
        "    self.harga = self.stok * self.hargasatuan\n",
        "\n",
        "  def get_nama(self):\n",
        "    return self.nama\n",
        "  def get_stok(self):\n",
        "    return self.stok\n",
        "  def get_hargasatuan(self):\n",
        "    return self.hargasatuan\n",
        "  def get_harga(self):\n",
        "    return self.harga\n",
        "\n",
        "bolpoint = alattulis(\"bolpoint\", 10, 2000)\n",
        "pensil = alattulis(\"pensil\", 10, 1000)\n",
        "penghapus = alattulis(\"penghapus\", 10, 500)\n",
        "\n",
        "print(\"nama         : \", bolpoint.get_nama())\n",
        "print(\"stok         : \", bolpoint.get_stok())\n",
        "print(\"harga satuan : \", bolpoint.get_hargasatuan())\n",
        "print(\"harga total  : \", bolpoint.get_harga())\n",
        "print()\n",
        "\n",
        "print(\"nama         : \", pensil.get_nama())\n",
        "print(\"stok         : \", pensil.get_stok())\n",
        "print(\"harga satuan : \", pensil.get_hargasatuan())\n",
        "print(\"harga total  : \", pensil.get_harga())\n",
        "print()\n",
        "\n",
        "print(\"nama         : \",  penghapus.get_nama())\n",
        "print(\"stok         : \", penghapus.get_stok())\n",
        "print(\"harga satuan : \", penghapus.get_hargasatuan())\n",
        "print(\"harga total  : \", penghapus.get_harga())\n",
        "print()\n"
      ],
      "metadata": {
        "id": "F-6MMqCAKtHF",
        "colab": {
          "base_uri": "https://localhost:8080/"
        },
        "outputId": "dcc13334-36d1-4684-b8b7-c5e2973daef2"
      },
      "execution_count": 5,
      "outputs": [
        {
          "output_type": "stream",
          "name": "stdout",
          "text": [
            "nama         :  bolpoint\n",
            "stok         :  10\n",
            "harga satuan :  2000\n",
            "harga total  :  20000\n",
            "\n",
            "nama         :  pensil\n",
            "stok         :  10\n",
            "harga satuan :  1000\n",
            "harga total  :  10000\n",
            "\n",
            "nama         :  penghapus\n",
            "stok         :  10\n",
            "harga satuan :  500\n",
            "harga total  :  5000\n",
            "\n"
          ]
        }
      ]
    }
  ]
}